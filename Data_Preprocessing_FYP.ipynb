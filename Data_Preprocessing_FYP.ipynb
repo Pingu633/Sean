{
  "nbformat": 4,
  "nbformat_minor": 0,
  "metadata": {
    "colab": {
      "provenance": [],
      "authorship_tag": "ABX9TyM2hYKAeMR41K4XRfSkuZq7",
      "include_colab_link": true
    },
    "kernelspec": {
      "name": "python3",
      "display_name": "Python 3"
    },
    "language_info": {
      "name": "python"
    }
  },
  "cells": [
    {
      "cell_type": "markdown",
      "metadata": {
        "id": "view-in-github",
        "colab_type": "text"
      },
      "source": [
        "<a href=\"https://colab.research.google.com/github/Pingu633/Sean/blob/master/Data_Preprocessing_FYP.ipynb\" target=\"_parent\"><img src=\"https://colab.research.google.com/assets/colab-badge.svg\" alt=\"Open In Colab\"/></a>"
      ]
    },
    {
      "cell_type": "code",
      "source": [
        "!pip install stop-words\n",
        "!python -m nltk.downloader punkt\n",
        "!python -m nltk.downloader averaged_perceptron_tagger"
      ],
      "metadata": {
        "colab": {
          "base_uri": "https://localhost:8080/"
        },
        "id": "VRd8yNyWHSiA",
        "outputId": "1f8753a8-4809-41ee-d9ee-5502a79f14ab"
      },
      "execution_count": 3,
      "outputs": [
        {
          "output_type": "stream",
          "name": "stdout",
          "text": [
            "Looking in indexes: https://pypi.org/simple, https://us-python.pkg.dev/colab-wheels/public/simple/\n",
            "Collecting stop-words\n",
            "  Downloading stop-words-2018.7.23.tar.gz (31 kB)\n",
            "Building wheels for collected packages: stop-words\n",
            "  Building wheel for stop-words (setup.py) ... \u001b[?25l\u001b[?25hdone\n",
            "  Created wheel for stop-words: filename=stop_words-2018.7.23-py3-none-any.whl size=32910 sha256=0397a1591459cc4b23dd2ba2b717e331b0e755d54c66a9ee4231fc6eac219045\n",
            "  Stored in directory: /root/.cache/pip/wheels/eb/03/0d/3bd31c983789aeb0b4d5e2ca48590288d9db1586cf5f225062\n",
            "Successfully built stop-words\n",
            "Installing collected packages: stop-words\n",
            "Successfully installed stop-words-2018.7.23\n",
            "/usr/lib/python3.8/runpy.py:127: RuntimeWarning: 'nltk.downloader' found in sys.modules after import of package 'nltk', but prior to execution of 'nltk.downloader'; this may result in unpredictable behaviour\n",
            "  warn(RuntimeWarning(msg))\n",
            "[nltk_data] Downloading package punkt to /root/nltk_data...\n",
            "[nltk_data]   Unzipping tokenizers/punkt.zip.\n",
            "/usr/lib/python3.8/runpy.py:127: RuntimeWarning: 'nltk.downloader' found in sys.modules after import of package 'nltk', but prior to execution of 'nltk.downloader'; this may result in unpredictable behaviour\n",
            "  warn(RuntimeWarning(msg))\n",
            "[nltk_data] Downloading package averaged_perceptron_tagger to\n",
            "[nltk_data]     /root/nltk_data...\n",
            "[nltk_data]   Unzipping taggers/averaged_perceptron_tagger.zip.\n"
          ]
        }
      ]
    },
    {
      "cell_type": "code",
      "source": [
        "import pandas as pd\n",
        "import numpy as np\n",
        "import pickle\n",
        "import datetime\n",
        "import matplotlib.pyplot as plt\n",
        "import nltk\n",
        "from nltk.tokenize import word_tokenize\n",
        "nltk.download('wordnet')\n",
        "nltk.download('omw-1.4')\n",
        "nltk.download('punkt')\n",
        "\n",
        "import warnings\n",
        "warnings.filterwarnings('ignore', category=Warning)\n",
        "\n",
        "import argparse\n",
        "import stop_words\n",
        "from nltk.corpus import stopwords\n",
        "nltk.download('stopwords');\n",
        "from nltk.stem.porter import PorterStemmer\n",
        "import nltk\n",
        "from nltk.stem.snowball import SnowballStemmer\n",
        "from nltk.stem import WordNetLemmatizer\n",
        "  \n",
        "\n",
        "def tokenize(column):\n",
        "    tokens = nltk.word_tokenize(column)\n",
        "    return [w for w in tokens if w.isalpha()]   \n",
        "\n",
        "def remove_stopwords(tokenized_column):\n",
        "    stops = set(stopwords.words(\"english\"))\n",
        "    return [word for word in tokenized_column if not word in stops]\n",
        "\n",
        "\n",
        "def snowballStemming(tokenized_column):\n",
        "#the stemmer requires a language parameter\n",
        "  SnowballStemmer = SnowballStemmer(language='english')\n",
        " \n",
        "  SnowballStemmer = SnowballStemmer()\n",
        "  return [SnowballStemmer.stem(word) for word in tokenized_column]\n",
        " \n",
        "\n",
        "def rejoin_words(tokenized_column):\n",
        "    \n",
        "    return ( \" \".join(tokenized_column))"
      ],
      "metadata": {
        "colab": {
          "base_uri": "https://localhost:8080/"
        },
        "id": "Z3oCGrU2HTwG",
        "outputId": "900c5202-fc75-4a19-f144-702500ceb376"
      },
      "execution_count": 4,
      "outputs": [
        {
          "output_type": "stream",
          "name": "stderr",
          "text": [
            "[nltk_data] Downloading package wordnet to /root/nltk_data...\n",
            "[nltk_data] Downloading package omw-1.4 to /root/nltk_data...\n",
            "[nltk_data] Downloading package punkt to /root/nltk_data...\n",
            "[nltk_data]   Package punkt is already up-to-date!\n",
            "[nltk_data] Downloading package stopwords to /root/nltk_data...\n",
            "[nltk_data]   Unzipping corpora/stopwords.zip.\n"
          ]
        }
      ]
    },
    {
      "cell_type": "code",
      "source": [
        "def apply_stemming(tokenized_column):\n",
        " \n",
        "\n",
        "    stemmer = PorterStemmer() \n",
        "    return [stemmer.stem(word) for word in tokenized_column]"
      ],
      "metadata": {
        "id": "hQMLXlwVkX_A"
      },
      "execution_count": 5,
      "outputs": []
    },
    {
      "cell_type": "code",
      "source": [
        "import nltk\n",
        "from nltk.stem.snowball import SnowballStemmer\n",
        "  \n",
        "#the stemmer requires a language parameter\n",
        "\n",
        "def snowballStemming(tokenized_column):\n",
        "  sStemmer = SnowballStemmer(language='english')\n",
        "  return[sStemmer.stem(word) for word in tokenized_column]"
      ],
      "metadata": {
        "id": "kQBZAzdrW0fA"
      },
      "execution_count": 16,
      "outputs": []
    },
    {
      "cell_type": "code",
      "source": [
        "def lemmatizer(tokenized_column):\n",
        "      lemmatizer = WordNetLemmatizer()\n",
        "      lemmatizer = [lemmatizer.lemmatize(word) for word in tokenized_column]\n",
        "      \n",
        "      return ( \" \".join(tokenized_column))"
      ],
      "metadata": {
        "id": "0pGAOHfnrL19"
      },
      "execution_count": 7,
      "outputs": []
    },
    {
      "cell_type": "code",
      "source": [
        "df_Reports = pd.read_csv(\"/content/MRIreports.csv\")\n",
        "\n",
        "df = pd.concat([df_Reports], axis=0)\n",
        "\n",
        "\"\"\"defines \"Report Text\" as \"All Text\" (Doesn't use tumour column)\"\"\"\n",
        "df['Original Text'] = df['Report Text']\n",
        "\n",
        "\n",
        "df = df.head(100)\n",
        "df.head()"
      ],
      "metadata": {
        "id": "S2HKyzKqRwLs",
        "colab": {
          "base_uri": "https://localhost:8080/",
          "height": 204
        },
        "outputId": "dff12d13-211a-46fe-c646-1fca1c26f8df"
      },
      "execution_count": 25,
      "outputs": [
        {
          "output_type": "execute_result",
          "data": {
            "text/plain": [
              "                                         Report Text Tumour  \\\n",
              "0  MR172016426 17/08/2017 MRI Internal auditory m...    Neg   \n",
              "1  MR202018745 29/10/2020 MRI Internal auditory m...    Neg   \n",
              "2  MR172024721 15/12/2017 MRI Internal auditory m...    Neg   \n",
              "3  MR182008748 07/03/2019 MRI IAM with contrast B...    Neg   \n",
              "4  MR182007437 26/04/2018 MRI Internal auditory m...    Neg   \n",
              "\n",
              "                                       Original Text  \n",
              "0  MR172016426 17/08/2017 MRI Internal auditory m...  \n",
              "1  MR202018745 29/10/2020 MRI Internal auditory m...  \n",
              "2  MR172024721 15/12/2017 MRI Internal auditory m...  \n",
              "3  MR182008748 07/03/2019 MRI IAM with contrast B...  \n",
              "4  MR182007437 26/04/2018 MRI Internal auditory m...  "
            ],
            "text/html": [
              "\n",
              "  <div id=\"df-8d0dd6ad-4534-429b-a44c-528ed132810a\">\n",
              "    <div class=\"colab-df-container\">\n",
              "      <div>\n",
              "<style scoped>\n",
              "    .dataframe tbody tr th:only-of-type {\n",
              "        vertical-align: middle;\n",
              "    }\n",
              "\n",
              "    .dataframe tbody tr th {\n",
              "        vertical-align: top;\n",
              "    }\n",
              "\n",
              "    .dataframe thead th {\n",
              "        text-align: right;\n",
              "    }\n",
              "</style>\n",
              "<table border=\"1\" class=\"dataframe\">\n",
              "  <thead>\n",
              "    <tr style=\"text-align: right;\">\n",
              "      <th></th>\n",
              "      <th>Report Text</th>\n",
              "      <th>Tumour</th>\n",
              "      <th>Original Text</th>\n",
              "    </tr>\n",
              "  </thead>\n",
              "  <tbody>\n",
              "    <tr>\n",
              "      <th>0</th>\n",
              "      <td>MR172016426 17/08/2017 MRI Internal auditory m...</td>\n",
              "      <td>Neg</td>\n",
              "      <td>MR172016426 17/08/2017 MRI Internal auditory m...</td>\n",
              "    </tr>\n",
              "    <tr>\n",
              "      <th>1</th>\n",
              "      <td>MR202018745 29/10/2020 MRI Internal auditory m...</td>\n",
              "      <td>Neg</td>\n",
              "      <td>MR202018745 29/10/2020 MRI Internal auditory m...</td>\n",
              "    </tr>\n",
              "    <tr>\n",
              "      <th>2</th>\n",
              "      <td>MR172024721 15/12/2017 MRI Internal auditory m...</td>\n",
              "      <td>Neg</td>\n",
              "      <td>MR172024721 15/12/2017 MRI Internal auditory m...</td>\n",
              "    </tr>\n",
              "    <tr>\n",
              "      <th>3</th>\n",
              "      <td>MR182008748 07/03/2019 MRI IAM with contrast B...</td>\n",
              "      <td>Neg</td>\n",
              "      <td>MR182008748 07/03/2019 MRI IAM with contrast B...</td>\n",
              "    </tr>\n",
              "    <tr>\n",
              "      <th>4</th>\n",
              "      <td>MR182007437 26/04/2018 MRI Internal auditory m...</td>\n",
              "      <td>Neg</td>\n",
              "      <td>MR182007437 26/04/2018 MRI Internal auditory m...</td>\n",
              "    </tr>\n",
              "  </tbody>\n",
              "</table>\n",
              "</div>\n",
              "      <button class=\"colab-df-convert\" onclick=\"convertToInteractive('df-8d0dd6ad-4534-429b-a44c-528ed132810a')\"\n",
              "              title=\"Convert this dataframe to an interactive table.\"\n",
              "              style=\"display:none;\">\n",
              "        \n",
              "  <svg xmlns=\"http://www.w3.org/2000/svg\" height=\"24px\"viewBox=\"0 0 24 24\"\n",
              "       width=\"24px\">\n",
              "    <path d=\"M0 0h24v24H0V0z\" fill=\"none\"/>\n",
              "    <path d=\"M18.56 5.44l.94 2.06.94-2.06 2.06-.94-2.06-.94-.94-2.06-.94 2.06-2.06.94zm-11 1L8.5 8.5l.94-2.06 2.06-.94-2.06-.94L8.5 2.5l-.94 2.06-2.06.94zm10 10l.94 2.06.94-2.06 2.06-.94-2.06-.94-.94-2.06-.94 2.06-2.06.94z\"/><path d=\"M17.41 7.96l-1.37-1.37c-.4-.4-.92-.59-1.43-.59-.52 0-1.04.2-1.43.59L10.3 9.45l-7.72 7.72c-.78.78-.78 2.05 0 2.83L4 21.41c.39.39.9.59 1.41.59.51 0 1.02-.2 1.41-.59l7.78-7.78 2.81-2.81c.8-.78.8-2.07 0-2.86zM5.41 20L4 18.59l7.72-7.72 1.47 1.35L5.41 20z\"/>\n",
              "  </svg>\n",
              "      </button>\n",
              "      \n",
              "  <style>\n",
              "    .colab-df-container {\n",
              "      display:flex;\n",
              "      flex-wrap:wrap;\n",
              "      gap: 12px;\n",
              "    }\n",
              "\n",
              "    .colab-df-convert {\n",
              "      background-color: #E8F0FE;\n",
              "      border: none;\n",
              "      border-radius: 50%;\n",
              "      cursor: pointer;\n",
              "      display: none;\n",
              "      fill: #1967D2;\n",
              "      height: 32px;\n",
              "      padding: 0 0 0 0;\n",
              "      width: 32px;\n",
              "    }\n",
              "\n",
              "    .colab-df-convert:hover {\n",
              "      background-color: #E2EBFA;\n",
              "      box-shadow: 0px 1px 2px rgba(60, 64, 67, 0.3), 0px 1px 3px 1px rgba(60, 64, 67, 0.15);\n",
              "      fill: #174EA6;\n",
              "    }\n",
              "\n",
              "    [theme=dark] .colab-df-convert {\n",
              "      background-color: #3B4455;\n",
              "      fill: #D2E3FC;\n",
              "    }\n",
              "\n",
              "    [theme=dark] .colab-df-convert:hover {\n",
              "      background-color: #434B5C;\n",
              "      box-shadow: 0px 1px 3px 1px rgba(0, 0, 0, 0.15);\n",
              "      filter: drop-shadow(0px 1px 2px rgba(0, 0, 0, 0.3));\n",
              "      fill: #FFFFFF;\n",
              "    }\n",
              "  </style>\n",
              "\n",
              "      <script>\n",
              "        const buttonEl =\n",
              "          document.querySelector('#df-8d0dd6ad-4534-429b-a44c-528ed132810a button.colab-df-convert');\n",
              "        buttonEl.style.display =\n",
              "          google.colab.kernel.accessAllowed ? 'block' : 'none';\n",
              "\n",
              "        async function convertToInteractive(key) {\n",
              "          const element = document.querySelector('#df-8d0dd6ad-4534-429b-a44c-528ed132810a');\n",
              "          const dataTable =\n",
              "            await google.colab.kernel.invokeFunction('convertToInteractive',\n",
              "                                                     [key], {});\n",
              "          if (!dataTable) return;\n",
              "\n",
              "          const docLinkHtml = 'Like what you see? Visit the ' +\n",
              "            '<a target=\"_blank\" href=https://colab.research.google.com/notebooks/data_table.ipynb>data table notebook</a>'\n",
              "            + ' to learn more about interactive tables.';\n",
              "          element.innerHTML = '';\n",
              "          dataTable['output_type'] = 'display_data';\n",
              "          await google.colab.output.renderOutput(dataTable, element);\n",
              "          const docLink = document.createElement('div');\n",
              "          docLink.innerHTML = docLinkHtml;\n",
              "          element.appendChild(docLink);\n",
              "        }\n",
              "      </script>\n",
              "    </div>\n",
              "  </div>\n",
              "  "
            ]
          },
          "metadata": {},
          "execution_count": 25
        }
      ]
    },
    {
      "cell_type": "code",
      "source": [
        "df['tokenized'] = df.apply(lambda x: tokenize(x['Original Text']), axis=1)\n",
        "df[['Original Text', 'tokenized']].head()"
      ],
      "metadata": {
        "id": "oTlUX8weRwOs",
        "colab": {
          "base_uri": "https://localhost:8080/",
          "height": 204
        },
        "outputId": "1c3bc63b-443e-46af-a1a6-ef3002f15514"
      },
      "execution_count": 26,
      "outputs": [
        {
          "output_type": "execute_result",
          "data": {
            "text/plain": [
              "                                       Original Text  \\\n",
              "0  MR172016426 17/08/2017 MRI Internal auditory m...   \n",
              "1  MR202018745 29/10/2020 MRI Internal auditory m...   \n",
              "2  MR172024721 15/12/2017 MRI Internal auditory m...   \n",
              "3  MR182008748 07/03/2019 MRI IAM with contrast B...   \n",
              "4  MR182007437 26/04/2018 MRI Internal auditory m...   \n",
              "\n",
              "                                           tokenized  \n",
              "0  [MRI, Internal, auditory, meatus, Both, Clinic...  \n",
              "1  [MRI, Internal, auditory, meatus, Both, Clinic...  \n",
              "2  [MRI, Internal, auditory, meatus, Both, Clinic...  \n",
              "3  [MRI, IAM, with, contrast, Both, Clinical, His...  \n",
              "4  [MRI, Internal, auditory, meatus, Both, Clinic...  "
            ],
            "text/html": [
              "\n",
              "  <div id=\"df-85adb887-eb05-4c83-9241-e6f648a43a60\">\n",
              "    <div class=\"colab-df-container\">\n",
              "      <div>\n",
              "<style scoped>\n",
              "    .dataframe tbody tr th:only-of-type {\n",
              "        vertical-align: middle;\n",
              "    }\n",
              "\n",
              "    .dataframe tbody tr th {\n",
              "        vertical-align: top;\n",
              "    }\n",
              "\n",
              "    .dataframe thead th {\n",
              "        text-align: right;\n",
              "    }\n",
              "</style>\n",
              "<table border=\"1\" class=\"dataframe\">\n",
              "  <thead>\n",
              "    <tr style=\"text-align: right;\">\n",
              "      <th></th>\n",
              "      <th>Original Text</th>\n",
              "      <th>tokenized</th>\n",
              "    </tr>\n",
              "  </thead>\n",
              "  <tbody>\n",
              "    <tr>\n",
              "      <th>0</th>\n",
              "      <td>MR172016426 17/08/2017 MRI Internal auditory m...</td>\n",
              "      <td>[MRI, Internal, auditory, meatus, Both, Clinic...</td>\n",
              "    </tr>\n",
              "    <tr>\n",
              "      <th>1</th>\n",
              "      <td>MR202018745 29/10/2020 MRI Internal auditory m...</td>\n",
              "      <td>[MRI, Internal, auditory, meatus, Both, Clinic...</td>\n",
              "    </tr>\n",
              "    <tr>\n",
              "      <th>2</th>\n",
              "      <td>MR172024721 15/12/2017 MRI Internal auditory m...</td>\n",
              "      <td>[MRI, Internal, auditory, meatus, Both, Clinic...</td>\n",
              "    </tr>\n",
              "    <tr>\n",
              "      <th>3</th>\n",
              "      <td>MR182008748 07/03/2019 MRI IAM with contrast B...</td>\n",
              "      <td>[MRI, IAM, with, contrast, Both, Clinical, His...</td>\n",
              "    </tr>\n",
              "    <tr>\n",
              "      <th>4</th>\n",
              "      <td>MR182007437 26/04/2018 MRI Internal auditory m...</td>\n",
              "      <td>[MRI, Internal, auditory, meatus, Both, Clinic...</td>\n",
              "    </tr>\n",
              "  </tbody>\n",
              "</table>\n",
              "</div>\n",
              "      <button class=\"colab-df-convert\" onclick=\"convertToInteractive('df-85adb887-eb05-4c83-9241-e6f648a43a60')\"\n",
              "              title=\"Convert this dataframe to an interactive table.\"\n",
              "              style=\"display:none;\">\n",
              "        \n",
              "  <svg xmlns=\"http://www.w3.org/2000/svg\" height=\"24px\"viewBox=\"0 0 24 24\"\n",
              "       width=\"24px\">\n",
              "    <path d=\"M0 0h24v24H0V0z\" fill=\"none\"/>\n",
              "    <path d=\"M18.56 5.44l.94 2.06.94-2.06 2.06-.94-2.06-.94-.94-2.06-.94 2.06-2.06.94zm-11 1L8.5 8.5l.94-2.06 2.06-.94-2.06-.94L8.5 2.5l-.94 2.06-2.06.94zm10 10l.94 2.06.94-2.06 2.06-.94-2.06-.94-.94-2.06-.94 2.06-2.06.94z\"/><path d=\"M17.41 7.96l-1.37-1.37c-.4-.4-.92-.59-1.43-.59-.52 0-1.04.2-1.43.59L10.3 9.45l-7.72 7.72c-.78.78-.78 2.05 0 2.83L4 21.41c.39.39.9.59 1.41.59.51 0 1.02-.2 1.41-.59l7.78-7.78 2.81-2.81c.8-.78.8-2.07 0-2.86zM5.41 20L4 18.59l7.72-7.72 1.47 1.35L5.41 20z\"/>\n",
              "  </svg>\n",
              "      </button>\n",
              "      \n",
              "  <style>\n",
              "    .colab-df-container {\n",
              "      display:flex;\n",
              "      flex-wrap:wrap;\n",
              "      gap: 12px;\n",
              "    }\n",
              "\n",
              "    .colab-df-convert {\n",
              "      background-color: #E8F0FE;\n",
              "      border: none;\n",
              "      border-radius: 50%;\n",
              "      cursor: pointer;\n",
              "      display: none;\n",
              "      fill: #1967D2;\n",
              "      height: 32px;\n",
              "      padding: 0 0 0 0;\n",
              "      width: 32px;\n",
              "    }\n",
              "\n",
              "    .colab-df-convert:hover {\n",
              "      background-color: #E2EBFA;\n",
              "      box-shadow: 0px 1px 2px rgba(60, 64, 67, 0.3), 0px 1px 3px 1px rgba(60, 64, 67, 0.15);\n",
              "      fill: #174EA6;\n",
              "    }\n",
              "\n",
              "    [theme=dark] .colab-df-convert {\n",
              "      background-color: #3B4455;\n",
              "      fill: #D2E3FC;\n",
              "    }\n",
              "\n",
              "    [theme=dark] .colab-df-convert:hover {\n",
              "      background-color: #434B5C;\n",
              "      box-shadow: 0px 1px 3px 1px rgba(0, 0, 0, 0.15);\n",
              "      filter: drop-shadow(0px 1px 2px rgba(0, 0, 0, 0.3));\n",
              "      fill: #FFFFFF;\n",
              "    }\n",
              "  </style>\n",
              "\n",
              "      <script>\n",
              "        const buttonEl =\n",
              "          document.querySelector('#df-85adb887-eb05-4c83-9241-e6f648a43a60 button.colab-df-convert');\n",
              "        buttonEl.style.display =\n",
              "          google.colab.kernel.accessAllowed ? 'block' : 'none';\n",
              "\n",
              "        async function convertToInteractive(key) {\n",
              "          const element = document.querySelector('#df-85adb887-eb05-4c83-9241-e6f648a43a60');\n",
              "          const dataTable =\n",
              "            await google.colab.kernel.invokeFunction('convertToInteractive',\n",
              "                                                     [key], {});\n",
              "          if (!dataTable) return;\n",
              "\n",
              "          const docLinkHtml = 'Like what you see? Visit the ' +\n",
              "            '<a target=\"_blank\" href=https://colab.research.google.com/notebooks/data_table.ipynb>data table notebook</a>'\n",
              "            + ' to learn more about interactive tables.';\n",
              "          element.innerHTML = '';\n",
              "          dataTable['output_type'] = 'display_data';\n",
              "          await google.colab.output.renderOutput(dataTable, element);\n",
              "          const docLink = document.createElement('div');\n",
              "          docLink.innerHTML = docLinkHtml;\n",
              "          element.appendChild(docLink);\n",
              "        }\n",
              "      </script>\n",
              "    </div>\n",
              "  </div>\n",
              "  "
            ]
          },
          "metadata": {},
          "execution_count": 26
        }
      ]
    },
    {
      "cell_type": "code",
      "source": [
        "df['stopwords_removed'] = df.apply(lambda x: remove_stopwords(x['tokenized']), axis=1)\n",
        "df[['Original Text', 'stopwords_removed']].head()"
      ],
      "metadata": {
        "id": "r5d32DCbRwU2"
      },
      "execution_count": null,
      "outputs": []
    },
    {
      "cell_type": "code",
      "source": [
        "df['snowballStemmed'] = df.apply(lambda x: snowballStemming(x['stopwords_removed']), axis=1)\n",
        "df[['Original Text', 'snowballStemmed']].head()"
      ],
      "metadata": {
        "id": "njZi5UzqnLG7"
      },
      "execution_count": null,
      "outputs": []
    },
    {
      "cell_type": "code",
      "source": [
        "df['lemmatizer'] = df.apply(lambda x: lemmatizer(x['porter_stemmed']), axis=1)\n",
        "df[['Original Text', 'lemmatizer']].head()"
      ],
      "metadata": {
        "id": "Y-GQCkdU_fVZ"
      },
      "execution_count": null,
      "outputs": []
    },
    {
      "cell_type": "code",
      "source": [
        "df['rejoined'] = df.apply(lambda x: rejoin_words(x['porter_stemmed']), axis=1)\n",
        "df[['Original Text', 'rejoined']].head()"
      ],
      "metadata": {
        "id": "ty1FMYahYx0L"
      },
      "execution_count": null,
      "outputs": []
    }
  ]
}